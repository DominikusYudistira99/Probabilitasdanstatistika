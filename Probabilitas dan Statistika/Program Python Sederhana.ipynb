{
 "cells": [
  {
   "cell_type": "code",
   "execution_count": 1,
   "id": "0fa8701d",
   "metadata": {},
   "outputs": [
    {
     "name": "stdout",
     "output_type": "stream",
     "text": [
      "[3, 6, 9, 12, 15, 18, 21, 24, 27, 33, 4, 8, 12, 16, 20, 24, 28, 32, 36, 44]\n"
     ]
    }
   ],
   "source": [
    "# Nomer 1\n",
    "\n",
    "listone = [3, 6, 9, 12, 15, 18, 21, 24, 27, 33]\n",
    "listtwo = [4, 8, 12, 16, 20, 24, 28, 32, 36, 44]\n",
    "mergedlist = []\n",
    "mergedlist.extend(listone)\n",
    "mergedlist.extend(listtwo)\n",
    "print(mergedlist)"
   ]
  },
  {
   "cell_type": "markdown",
   "id": "27a34da9",
   "metadata": {},
   "source": [
    "# Nomer 2\n",
    "from collections import Counter\n",
    "listA = [11, 45, 8, 11, 101, 23, 45, 23, 45, 89, 101]\n",
    "print (Counter (listA))\n"
   ]
  },
  {
   "cell_type": "markdown",
   "id": "57068abf",
   "metadata": {},
   "source": [
    "# Nomer 3\n",
    "listB = [12, 15, 18, 32, 42, 47, 50, 55, 75, 90, 95, 100, 122, 132, 150, 180, 200]\n",
    "def func1():\n",
    "    print (\"Test\")\n",
    "    func1()\n",
    "    \n",
    "    \n"
   ]
  },
  {
   "cell_type": "markdown",
   "id": "96379c11",
   "metadata": {},
   "source": [
    "# Nomer 4\n",
    "\n"
   ]
  },
  {
   "cell_type": "code",
   "execution_count": null,
   "id": "33a79401",
   "metadata": {},
   "outputs": [],
   "source": []
  }
 ],
 "metadata": {
  "kernelspec": {
   "display_name": "Python 3 (ipykernel)",
   "language": "python",
   "name": "python3"
  },
  "language_info": {
   "codemirror_mode": {
    "name": "ipython",
    "version": 3
   },
   "file_extension": ".py",
   "mimetype": "text/x-python",
   "name": "python",
   "nbconvert_exporter": "python",
   "pygments_lexer": "ipython3",
   "version": "3.9.7"
  }
 },
 "nbformat": 4,
 "nbformat_minor": 5
}
